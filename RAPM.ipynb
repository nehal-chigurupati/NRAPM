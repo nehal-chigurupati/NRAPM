{
 "cells": [
  {
   "cell_type": "code",
   "execution_count": 1,
   "id": "0a8472ed-0e0b-44ea-b8c6-21b5b0a565c9",
   "metadata": {},
   "outputs": [],
   "source": [
    "import pandas as pd\n",
    "import time\n",
    "from sklearn.linear_model import Ridge\n",
    "from sklearn.model_selection import train_test_split\n",
    "from sklearn.metrics import mean_squared_error\n",
    "import numpy as np\n",
    "from nba_api.stats.static import players\n",
    "from nba_api.stats.endpoints import playergamelog"
   ]
  },
  {
   "cell_type": "code",
   "execution_count": null,
   "id": "c0af5760-aa3f-43d9-8603-fa4df410e306",
   "metadata": {},
   "outputs": [],
   "source": []
  }
 ],
 "metadata": {
  "kernelspec": {
   "display_name": "Python 3 (ipykernel)",
   "language": "python",
   "name": "python3"
  },
  "language_info": {
   "codemirror_mode": {
    "name": "ipython",
    "version": 3
   },
   "file_extension": ".py",
   "mimetype": "text/x-python",
   "name": "python",
   "nbconvert_exporter": "python",
   "pygments_lexer": "ipython3",
   "version": "3.11.4"
  }
 },
 "nbformat": 4,
 "nbformat_minor": 5
}
